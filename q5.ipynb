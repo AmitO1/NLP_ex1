{
 "cells": [
  {
   "cell_type": "code",
   "execution_count": 1,
   "metadata": {},
   "outputs": [],
   "source": [
    "import math\n",
    "\n",
    "# section 1\n",
    "def computeTF(t, d):\n",
    "    # Count the number of times term t appears in document d\n",
    "    count_t_d = d.count(t)\n",
    "    # Calculate the total number of terms in document d\n",
    "    size_d = len(d.split())\n",
    "    # Calculate TF\n",
    "    tf = count_t_d / size_d\n",
    "    return tf"
   ]
  },
  {
   "cell_type": "code",
   "execution_count": 2,
   "metadata": {},
   "outputs": [],
   "source": [
    "# section 2\n",
    "def computeDF(t, C):\n",
    "    # Count the number of documents containing the term t\n",
    "    count_t_C = sum(1 for document in C if t in document)\n",
    "    # Calculate DF\n",
    "    df = count_t_C\n",
    "    return df\n"
   ]
  },
  {
   "cell_type": "code",
   "execution_count": 18,
   "metadata": {},
   "outputs": [],
   "source": [
    "# section 3\n",
    "def computeIDF(t, C):\n",
    "    # Total number of documents\n",
    "    N = len(C)\n",
    "    # Number of documents containing the term t\n",
    "    df_t = computeDF(t, C)\n",
    "    # Calculate IDF with better smoothing\n",
    "    idf = math.log(1 + (N / (df_t + 1)))\n",
    "    return idf\n"
   ]
  },
  {
   "cell_type": "code",
   "execution_count": 19,
   "metadata": {},
   "outputs": [],
   "source": [
    "# section 4\n",
    "def computeTFIDF(t, d, C):\n",
    "    # Calculate TF\n",
    "    tf = computeTF(t, d)\n",
    "    # Calculate IDF\n",
    "    idf = computeIDF(t, C)\n",
    "    # Calculate TF-IDF\n",
    "    tfidf = tf * idf\n",
    "    return tfidf\n"
   ]
  },
  {
   "cell_type": "code",
   "execution_count": 22,
   "metadata": {},
   "outputs": [
    {
     "name": "stdout",
     "output_type": "stream",
     "text": [
      "Top 3 sentences:\n",
      "Score: 0.8792 - Sentence: Wellington is the capital city of New Zealand.\n",
      "Score: 0.6212 - Sentence: Auckland is the largest city in New Zealand.\n",
      "Score: 0.5255 - Sentence: The Maori culture is an integral part of New Zealand's identity.\n"
     ]
    }
   ],
   "source": [
    "#section 5\n",
    "corpuses = [\n",
    "    \"Wellington is the capital city of New Zealand.\",\n",
    "    \"New Zealand is famous for its rugby team, the All Blacks.\",\n",
    "    \"Auckland is the largest city in New Zealand.\",\n",
    "    \"The Maori culture is an integral part of New Zealand's identity.\",\n",
    "    \"New Zealand's landscapes were featured in the Lord of the Rings films.\"\n",
    "]\n",
    "\n",
    "# Query\n",
    "query = \"What is the capital of New Zealand?\"\n",
    "\n",
    "# Preprocess query\n",
    "query_terms = query.lower().replace(\"?\", \"\").split()\n",
    "\n",
    "# Calculate TF-IDF scores for each sentence\n",
    "sentence_scores = []\n",
    "\n",
    "for sentence in corpuses:\n",
    "    score = 0\n",
    "    for term in query_terms:\n",
    "        tfidf = computeTFIDF(term, sentence.lower(), corpuses)\n",
    "        score += tfidf\n",
    "    sentence_scores.append((sentence, score))\n",
    "\n",
    "# Sort sentences by score in descending order\n",
    "ranked_sentences = sorted(sentence_scores, key=lambda x: x[1], reverse=True)\n",
    "\n",
    "# Print the top 3 sentences\n",
    "print(\"Top 3 sentences:\")\n",
    "for sentence, score in ranked_sentences[:3]:\n",
    "    print(f\"Score: {score:.4f} - Sentence: {sentence}\")"
   ]
  }
 ],
 "metadata": {
  "kernelspec": {
   "display_name": "indie",
   "language": "python",
   "name": "python3"
  },
  "language_info": {
   "codemirror_mode": {
    "name": "ipython",
    "version": 3
   },
   "file_extension": ".py",
   "mimetype": "text/x-python",
   "name": "python",
   "nbconvert_exporter": "python",
   "pygments_lexer": "ipython3",
   "version": "3.10.15"
  }
 },
 "nbformat": 4,
 "nbformat_minor": 2
}
